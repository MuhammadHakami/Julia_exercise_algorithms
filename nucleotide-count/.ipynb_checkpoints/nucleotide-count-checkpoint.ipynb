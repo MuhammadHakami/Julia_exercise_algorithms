{
 "cells": [
  {
   "cell_type": "markdown",
   "metadata": {},
   "source": [
    "# Nucleotide Count\n",
    "\n",
    "Given a single stranded DNA string, compute how many times each nucleotide occurs in the string.\n",
    "\n",
    "The genetic language of every living thing on the planet is DNA.\n",
    "DNA is a large molecule that is built from an extremely long sequence of individual elements called nucleotides.\n",
    "4 types exist in DNA and these differ only slightly and can be represented as the following symbols: 'A' for adenine, 'C' for cytosine, 'G' for guanine, and 'T' thymine.\n",
    "\n",
    "Here is an analogy:\n",
    "- twigs are to birds nests as\n",
    "- nucleotides are to DNA as\n",
    "- legos are to lego houses as\n",
    "- words are to sentences as...\n",
    "\n",
    "## Source\n",
    "\n",
    "The Calculating DNA Nucleotides_problem at Rosalind [http://rosalind.info/problems/dna/](http://rosalind.info/problems/dna/)\n",
    "\n",
    "## Version compatibility\n",
    "This exercise has been tested on Julia versions >=1.0.\n",
    "\n",
    "## Submitting Incomplete Solutions\n",
    "It's possible to submit an incomplete solution so you can see how others have completed the exercise."
   ]
  },
  {
   "cell_type": "markdown",
   "metadata": {},
   "source": [
    "## Your solution"
   ]
  },
  {
   "cell_type": "code",
   "execution_count": 5,
   "metadata": {},
   "outputs": [
    {
     "data": {
      "text/plain": [
       "count_nucleotides (generic function with 1 method)"
      ]
     },
     "execution_count": 5,
     "metadata": {},
     "output_type": "execute_result"
    }
   ],
   "source": [
    "# submit\n",
    "function count_nucleotides(strand::AbstractString)\n",
    "    items=Dict('A'=>0, 'C'=>0, 'G'=>0, 'T'=>0)\n",
    "    foreach(x -> x in keys(items) ? items[x]+=1 : throw(DomainError(x, \"Key is not A,C,G, nor T\")), collect(AbstractChar,uppercase(strand)))\n",
    "    return items\n",
    "end"
   ]
  },
  {
   "cell_type": "markdown",
   "metadata": {},
   "source": [
    "## Test suite"
   ]
  },
  {
   "cell_type": "code",
   "execution_count": 6,
   "metadata": {},
   "outputs": [
    {
     "name": "stdout",
     "output_type": "stream",
     "text": [
      "\u001b[37m\u001b[1mTest Summary: | \u001b[22m\u001b[39m\u001b[32m\u001b[1mPass  \u001b[22m\u001b[39m\u001b[36m\u001b[1mTotal\u001b[22m\u001b[39m\n",
      "empty strand  | \u001b[32m   1  \u001b[39m\u001b[36m    1\u001b[39m\n",
      "\u001b[37m\u001b[1mTest Summary:                   | \u001b[22m\u001b[39m\u001b[32m\u001b[1mPass  \u001b[22m\u001b[39m\u001b[36m\u001b[1mTotal\u001b[22m\u001b[39m\n",
      "strand with repeated nucleotide | \u001b[32m   1  \u001b[39m\u001b[36m    1\u001b[39m\n",
      "\u001b[37m\u001b[1mTest Summary:                    | \u001b[22m\u001b[39m\u001b[32m\u001b[1mPass  \u001b[22m\u001b[39m\u001b[36m\u001b[1mTotal\u001b[22m\u001b[39m\n",
      "strand with multiple nucleotides | \u001b[32m   1  \u001b[39m\u001b[36m    1\u001b[39m\n",
      "\u001b[37m\u001b[1mTest Summary:                   | \u001b[22m\u001b[39m\u001b[32m\u001b[1mPass  \u001b[22m\u001b[39m\u001b[36m\u001b[1mTotal\u001b[22m\u001b[39m\n",
      "strand with invalid nucleotides | \u001b[32m   1  \u001b[39m\u001b[36m    1\u001b[39m\n"
     ]
    },
    {
     "data": {
      "text/plain": [
       "Test.DefaultTestSet(\"strand with invalid nucleotides\", Any[], 1, false)"
      ]
     },
     "execution_count": 6,
     "metadata": {},
     "output_type": "execute_result"
    }
   ],
   "source": [
    "using Test\n",
    "\n",
    "# include(\"nucleotide-count.jl\")\n",
    "\n",
    "@testset \"empty strand\" begin\n",
    "    @test count_nucleotides(\"\") == Dict('A' => 0, 'C' => 0, 'G' => 0, 'T' => 0)\n",
    "end\n",
    "\n",
    "@testset \"strand with repeated nucleotide\" begin\n",
    "    @test count_nucleotides(\"GGGGGGG\") == Dict('A' => 0, 'C' => 0, 'G' => 7, 'T' => 0)\n",
    "end\n",
    "\n",
    "@testset \"strand with multiple nucleotides\" begin\n",
    "    @test count_nucleotides(\"AGCTTTTCATTCTGACTGCAACGGGCAATATGTCTCTGTGTGGATTAAAAAAAGAGTGTCTGATAGCAGC\") == Dict('A' => 20, 'C' => 12, 'G' => 17, 'T' => 21)\n",
    "end\n",
    "\n",
    "@testset \"strand with invalid nucleotides\" begin\n",
    "    @test_throws DomainError count_nucleotides(\"AGXXACT\")\n",
    "end"
   ]
  },
  {
   "cell_type": "markdown",
   "metadata": {},
   "source": [
    "## Prepare submission\n",
    "To submit your exercise, you need to save your solution in a file called `nucleotide-count.jl` before using the CLI.\n",
    "You can either create it manually or use the following functions, which will automatically write every notebook cell that starts with `# submit` to the file `nucleotide-count.jl`.\n"
   ]
  },
  {
   "cell_type": "code",
   "execution_count": null,
   "metadata": {},
   "outputs": [
    {
     "name": "stdout",
     "output_type": "stream",
     "text": [
      "\u001b[32m\u001b[1m  Updating\u001b[22m\u001b[39m registry at `C:\\Users\\mmmme\\.julia\\registries\\General`\n",
      "\u001b[32m\u001b[1m  Updating\u001b[22m\u001b[39m git-repo `https://github.com/JuliaRegistries/General.git`\n",
      "\u001b[2K\u001b[36m\u001b[1mFetching:\u001b[22m\u001b[39m [========================================>]  99.9 %0.0 %\u001b[36m\u001b[1mFetching:\u001b[22m\u001b[39m [=======>                                 ]  15.5 %========>                                ]  19.1 %2 % [==========>                              ]  23.9 %]  26.3 %\u001b[36m\u001b[1mFetching:\u001b[22m\u001b[39m [============>                            ]  28.9 %==============>                          ]  33.9 %36.8 %>                     ]  45.7 %>                    ]  49.7 %.8 %1 %.2 %\u001b[36m\u001b[1mFetching:\u001b[22m\u001b[39m [==========================>              ]  63.0 %>             ]  65.8 %>           ]  72.4 %>          ]  74.9 %>        ]  77.9 %\u001b[36m\u001b[1mFetching:\u001b[22m\u001b[39m [================================>        ]  80.0 % % %\u001b[36m\u001b[1mFetching:\u001b[22m\u001b[39m [====================================>    ]  89.5 %]  91.3 %8 %]  97.0 %]  98.7 %\u001b[?25h\u001b[32m\u001b[1m Resolving\u001b[22m\u001b[39m package versions...\n",
      "\u001b[32m\u001b[1m Installed\u001b[22m\u001b[39m Exercism ──────────────── v0.1.4\n",
      "\u001b[32m\u001b[1m Installed\u001b[22m\u001b[39m PDMats ────────────────── v0.9.11\n",
      "\u001b[32m\u001b[1m Installed\u001b[22m\u001b[39m CatIndices ────────────── v0.2.1\n",
      "\u001b[32m\u001b[1m Installed\u001b[22m\u001b[39m FFMPEG ────────────────── v0.2.4\n",
      "\u001b[32m\u001b[1m Installed\u001b[22m\u001b[39m ZipFile ───────────────── v0.8.4\n",
      "\u001b[32m\u001b[1m Installed\u001b[22m\u001b[39m ArrayInterface ────────── v2.5.0\n",
      "\u001b[32m\u001b[1m Installed\u001b[22m\u001b[39m LLVM ──────────────────── v1.3.3\n",
      "\u001b[32m\u001b[1m Installed\u001b[22m\u001b[39m Optim ─────────────────── v0.20.1\n",
      "\u001b[32m\u001b[1m Installed\u001b[22m\u001b[39m Mocking ───────────────── v0.7.1\n",
      "\u001b[32m\u001b[1m Installed\u001b[22m\u001b[39m Parsers ───────────────── v0.3.12\n",
      "\u001b[32m\u001b[1m Installed\u001b[22m\u001b[39m ImageAxes ─────────────── v0.6.4\n",
      "\u001b[32m\u001b[1m Installed\u001b[22m\u001b[39m CodeTools ─────────────── v0.6.5\n",
      "\u001b[32m\u001b[1m Installed\u001b[22m\u001b[39m LIBSVM ────────────────── v0.4.0\n",
      "\u001b[32m\u001b[1m Installed\u001b[22m\u001b[39m AbstractTrees ─────────── v0.3.2\n",
      "\u001b[32m\u001b[1m Installed\u001b[22m\u001b[39m AxisArrays ────────────── v0.4.2\n",
      "\u001b[32m\u001b[1m Installed\u001b[22m\u001b[39m Cassette ──────────────── v0.3.1\n",
      "\u001b[32m\u001b[1m Installed\u001b[22m\u001b[39m QuadGK ────────────────── v2.3.1\n",
      "\u001b[32m\u001b[1m Installed\u001b[22m\u001b[39m Images ────────────────── v0.22.0\n",
      "\u001b[32m\u001b[1m Installed\u001b[22m\u001b[39m Rmath ─────────────────── v0.6.0\n",
      "\u001b[32m\u001b[1m Installed\u001b[22m\u001b[39m Adapt ─────────────────── v1.0.1\n",
      "\u001b[32m\u001b[1m Installed\u001b[22m\u001b[39m EzXML ─────────────────── v1.0.0\n",
      "\u001b[32m\u001b[1m Installed\u001b[22m\u001b[39m TiledIteration ────────── v0.2.4\n",
      "\u001b[32m\u001b[1m Installed\u001b[22m\u001b[39m ForwardDiff ───────────── v0.10.9\n",
      "\u001b[32m\u001b[1m Installed\u001b[22m\u001b[39m Discretizers ──────────── v3.2.0\n",
      "\u001b[32m\u001b[1m Installed\u001b[22m\u001b[39m DataValues ────────────── v0.4.13\n",
      "\u001b[32m\u001b[1m Installed\u001b[22m\u001b[39m IdentityRanges ────────── v0.3.1\n",
      "\u001b[32m\u001b[1m Installed\u001b[22m\u001b[39m OffsetArrays ──────────── v0.11.4\n",
      "\u001b[32m\u001b[1m Installed\u001b[22m\u001b[39m HTTP ──────────────────── v0.8.12\n",
      "\u001b[32m\u001b[1m Installed\u001b[22m\u001b[39m ImageShow ─────────────── v0.2.3\n",
      "\u001b[32m\u001b[1m Installed\u001b[22m\u001b[39m Mustache ──────────────── v1.0.0\n",
      "\u001b[32m\u001b[1m Installed\u001b[22m\u001b[39m ImageMorphology ───────── v0.2.5\n",
      "\u001b[32m\u001b[1m Installed\u001b[22m\u001b[39m Conda ─────────────────── v1.4.1\n",
      "\u001b[32m\u001b[1m Installed\u001b[22m\u001b[39m Libz ──────────────────── v1.0.1\n",
      "\u001b[32m\u001b[1m Installed\u001b[22m\u001b[39m Rotations ─────────────── v0.13.0\n",
      "\u001b[32m\u001b[1m Installed\u001b[22m\u001b[39m NNlib ─────────────────── v0.6.6\n",
      "\u001b[32m\u001b[1m Installed\u001b[22m\u001b[39m RecipesBase ───────────── v0.8.0\n",
      "\u001b[32m\u001b[1m Installed\u001b[22m\u001b[39m IntervalSets ──────────── v0.4.0\n",
      "\u001b[32m\u001b[1m Installed\u001b[22m\u001b[39m Tokenize ──────────────── v0.5.7\n",
      "\u001b[32m\u001b[1m Installed\u001b[22m\u001b[39m JuliaInterpreter ──────── v0.7.12\n",
      "\u001b[32m\u001b[1m Installed\u001b[22m\u001b[39m FileIO ────────────────── v1.2.2\n",
      "\u001b[32m\u001b[1m Installed\u001b[22m\u001b[39m VersionParsing ────────── v1.2.0\n",
      "\u001b[32m\u001b[1m Installed\u001b[22m\u001b[39m CMake ─────────────────── v1.2.0\n",
      "\u001b[32m\u001b[1m Installed\u001b[22m\u001b[39m ImageContrastAdjustment ─ v0.3.3\n",
      "\u001b[32m\u001b[1m Installed\u001b[22m\u001b[39m PaddedViews ───────────── v0.5.1\n",
      "\u001b[32m\u001b[1m Installed\u001b[22m\u001b[39m WeakRefStrings ────────── v0.6.2\n",
      "\u001b[32m\u001b[1m Installed\u001b[22m\u001b[39m DocSeeker ─────────────── v0.3.2\n",
      "\u001b[32m\u001b[1m Installed\u001b[22m\u001b[39m WoodburyMatrices ──────── v0.5.1\n",
      "\u001b[32m\u001b[1m Installed\u001b[22m\u001b[39m FFTViews ──────────────── v0.3.1\n",
      "\u001b[32m\u001b[1m Installed\u001b[22m\u001b[39m CustomUnitRanges ──────── v1.0.0\n",
      "\u001b[32m\u001b[1m Installed\u001b[22m\u001b[39m GeometryTypes ─────────── v0.8.1\n",
      "\u001b[32m\u001b[1m Installed\u001b[22m\u001b[39m ZMQ ───────────────────── v1.1.0\n",
      "\u001b[32m\u001b[1m Installed\u001b[22m\u001b[39m EllipsisNotation ──────── v0.4.0\n",
      "\u001b[32m\u001b[1m Installed\u001b[22m\u001b[39m LNR ───────────────────── v0.2.1\n",
      "\u001b[32m\u001b[1m Installed\u001b[22m\u001b[39m RangeArrays ───────────── v0.3.2\n",
      "\u001b[32m\u001b[1m Installed\u001b[22m\u001b[39m LaTeXStrings ──────────── v1.1.0\n",
      "\u001b[32m\u001b[1m Installed\u001b[22m\u001b[39m Measures ──────────────── v0.3.1\n",
      "\u001b[32m\u001b[1m Installed\u001b[22m\u001b[39m Tracker ───────────────── v0.2.6\n",
      "\u001b[32m\u001b[1m Installed\u001b[22m\u001b[39m FiniteDiff ────────────── v2.2.1\n",
      "\u001b[32m\u001b[1m Installed\u001b[22m\u001b[39m TimeZones ─────────────── v1.0.1\n",
      "\u001b[32m\u001b[1m Installed\u001b[22m\u001b[39m ColorVectorSpace ──────── v0.8.3\n",
      "\u001b[32m\u001b[1m Installed\u001b[22m\u001b[39m PooledArrays ──────────── v0.5.3\n",
      "\u001b[32m\u001b[1m Installed\u001b[22m\u001b[39m ImageDistances ────────── v0.2.7\n",
      "\u001b[32m\u001b[1m Installed\u001b[22m\u001b[39m StatsFuns ─────────────── v0.9.4\n",
      "\u001b[32m\u001b[1m Installed\u001b[22m\u001b[39m Observables ───────────── v0.3.1\n",
      "\u001b[32m\u001b[1m Installed\u001b[22m\u001b[39m NearestNeighbors ──────── v0.4.4\n",
      "\u001b[32m\u001b[1m Installed\u001b[22m\u001b[39m ImageTransformations ──── v0.8.3\n",
      "\u001b[32m\u001b[1m Installed\u001b[22m\u001b[39m ImageFiltering ────────── v0.6.9\n",
      "\u001b[32m\u001b[1m Installed\u001b[22m\u001b[39m NLSolversBase ─────────── v7.6.1\n",
      "\u001b[32m\u001b[1m Installed\u001b[22m\u001b[39m Arpack ────────────────── v0.3.2\n",
      "\u001b[32m\u001b[1m Installed\u001b[22m\u001b[39m ExprTools ─────────────── v0.1.0\n",
      "\u001b[32m\u001b[1m Installed\u001b[22m\u001b[39m ComputationalResources ── v0.3.1\n",
      "\u001b[32m\u001b[1m Installed\u001b[22m\u001b[39m ColorTypes ────────────── v0.8.1\n",
      "\u001b[32m\u001b[1m Installed\u001b[22m\u001b[39m IndirectArrays ────────── v0.5.1\n",
      "\u001b[32m\u001b[1m Installed\u001b[22m\u001b[39m PlotThemes ────────────── v1.0.1\n",
      "\u001b[32m\u001b[1m Installed\u001b[22m\u001b[39m ImageQualityIndexes ───── v0.1.3\n",
      "\u001b[32m\u001b[1m Installed\u001b[22m\u001b[39m ImageCore ─────────────── v0.8.11\n",
      "\u001b[32m\u001b[1m Installed\u001b[22m\u001b[39m ImageMetadata ─────────── v0.9.0\n",
      "\u001b[32m\u001b[1m Installed\u001b[22m\u001b[39m Ratios ────────────────── v0.4.0\n",
      "\u001b[32m\u001b[1m Installed\u001b[22m\u001b[39m DiffResults ───────────── v1.0.2\n",
      "\u001b[32m\u001b[1m Installed\u001b[22m\u001b[39m JSON ──────────────────── v0.20.1\n",
      "\u001b[32m\u001b[1m Installed\u001b[22m\u001b[39m IRTools ───────────────── v0.3.1\n",
      "\u001b[32m\u001b[1m  Updating\u001b[22m\u001b[39m `C:\\Users\\mmmme\\.julia\\environments\\v1.2\\Project.toml`\n",
      " \u001b[90m [b06d6668]\u001b[39m\u001b[92m + Exercism v0.1.4\u001b[39m\n",
      "\u001b[32m\u001b[1m  Updating\u001b[22m\u001b[39m `C:\\Users\\mmmme\\.julia\\environments\\v1.2\\Manifest.toml`\n",
      " \u001b[90m [1520ce14]\u001b[39m\u001b[93m ↑ AbstractTrees v0.2.1 ⇒ v0.3.2\u001b[39m\n",
      " \u001b[90m [79e6a3ab]\u001b[39m\u001b[93m ↑ Adapt v1.0.0 ⇒ v1.0.1\u001b[39m\n",
      " \u001b[90m [7d9fca2a]\u001b[39m\u001b[93m ↑ Arpack v0.3.1 ⇒ v0.3.2\u001b[39m\n",
      " \u001b[90m [4fba245c]\u001b[39m\u001b[93m ↑ ArrayInterface v1.2.1 ⇒ v2.5.0\u001b[39m\n",
      " \u001b[90m [39de3d68]\u001b[39m\u001b[93m ↑ AxisArrays v0.3.3 ⇒ v0.4.2\u001b[39m\n",
      " \u001b[90m [631607c0]\u001b[39m\u001b[93m ↑ CMake v1.1.2 ⇒ v1.2.0\u001b[39m\n",
      " \u001b[90m [49dc2e85]\u001b[39m\u001b[91m - Calculus v0.5.1\u001b[39m\n",
      " \u001b[90m [7057c7e9]\u001b[39m\u001b[93m ↑ Cassette v0.2.6 ⇒ v0.3.1\u001b[39m\n",
      " \u001b[90m [aafaddc9]\u001b[39m\u001b[93m ↑ CatIndices v0.2.0 ⇒ v0.2.1\u001b[39m\n",
      " \u001b[90m [53a63b46]\u001b[39m\u001b[93m ↑ CodeTools v0.6.4 ⇒ v0.6.5\u001b[39m\n",
      " \u001b[90m [3da002f7]\u001b[39m\u001b[93m ↑ ColorTypes v0.8.0 ⇒ v0.8.1\u001b[39m\n",
      " \u001b[90m [c3611d14]\u001b[39m\u001b[93m ↑ ColorVectorSpace v0.7.1 ⇒ v0.8.3\u001b[39m\n",
      " \u001b[90m [ed09eef8]\u001b[39m\u001b[93m ↑ ComputationalResources v0.3.0 ⇒ v0.3.1\u001b[39m\n",
      " \u001b[90m [8f4d0f93]\u001b[39m\u001b[93m ↑ Conda v1.3.0 ⇒ v1.4.1\u001b[39m\n",
      " \u001b[90m [dc8bdbbb]\u001b[39m\u001b[93m ↑ CustomUnitRanges v0.2.0 ⇒ v1.0.0\u001b[39m\n",
      " \u001b[90m [e7dc6d0d]\u001b[39m\u001b[93m ↑ DataValues v0.4.12 ⇒ v0.4.13\u001b[39m\n",
      " \u001b[90m [01453d9d]\u001b[39m\u001b[91m - DiffEqDiffTools v1.4.0\u001b[39m\n",
      " \u001b[90m [163ba53b]\u001b[39m\u001b[93m ↑ DiffResults v0.0.4 ⇒ v1.0.2\u001b[39m\n",
      " \u001b[90m [6e83dbb3]\u001b[39m\u001b[93m ↑ Discretizers v3.1.0 ⇒ v3.2.0\u001b[39m\n",
      " \u001b[90m [33d173f1]\u001b[39m\u001b[93m ↑ DocSeeker v0.3.1 ⇒ v0.3.2\u001b[39m\n",
      " \u001b[90m [da5c29d0]\u001b[39m\u001b[92m + EllipsisNotation v0.4.0\u001b[39m\n",
      " \u001b[90m [b06d6668]\u001b[39m\u001b[92m + Exercism v0.1.4\u001b[39m\n",
      " \u001b[90m [e2ba6199]\u001b[39m\u001b[92m + ExprTools v0.1.0\u001b[39m\n",
      " \u001b[90m [8f5d6c58]\u001b[39m\u001b[93m ↑ EzXML v0.9.4 ⇒ v1.0.0\u001b[39m\n",
      " \u001b[90m [c87230d0]\u001b[39m\u001b[93m ↑ FFMPEG v0.2.3 ⇒ v0.2.4\u001b[39m\n",
      " \u001b[90m [4f61f5a4]\u001b[39m\u001b[93m ↑ FFTViews v0.3.0 ⇒ v0.3.1\u001b[39m\n",
      " \u001b[90m [5789e2e9]\u001b[39m\u001b[93m ↑ FileIO v1.1.0 ⇒ v1.2.2\u001b[39m\n",
      " \u001b[90m [6a86dc24]\u001b[39m\u001b[92m + FiniteDiff v2.2.1\u001b[39m\n",
      " \u001b[90m [f6369f11]\u001b[39m\u001b[93m ↑ ForwardDiff v0.10.6 ⇒ v0.10.9\u001b[39m\n",
      " \u001b[90m [4d00f742]\u001b[39m\u001b[93m ↑ GeometryTypes v0.7.6 ⇒ v0.8.1\u001b[39m\n"
     ]
    },
    {
     "name": "stdout",
     "output_type": "stream",
     "text": [
      " \u001b[90m [cd3eb016]\u001b[39m\u001b[93m ↑ HTTP v0.8.8 ⇒ v0.8.12\u001b[39m\n",
      " \u001b[90m [7869d1d1]\u001b[39m\u001b[93m ↑ IRTools v0.3.0 ⇒ v0.3.1\u001b[39m\n",
      " \u001b[90m [bbac6d45]\u001b[39m\u001b[93m ↑ IdentityRanges v0.3.0 ⇒ v0.3.1\u001b[39m\n",
      " \u001b[90m [2803e5a7]\u001b[39m\u001b[93m ↑ ImageAxes v0.6.1 ⇒ v0.6.4\u001b[39m\n",
      " \u001b[90m [f332f351]\u001b[39m\u001b[92m + ImageContrastAdjustment v0.3.3\u001b[39m\n",
      " \u001b[90m [a09fc81d]\u001b[39m\u001b[93m ↑ ImageCore v0.8.5 ⇒ v0.8.11\u001b[39m\n",
      " \u001b[90m [51556ac3]\u001b[39m\u001b[93m ↑ ImageDistances v0.2.4 ⇒ v0.2.7\u001b[39m\n",
      " \u001b[90m [6a3955dd]\u001b[39m\u001b[93m ↑ ImageFiltering v0.6.5 ⇒ v0.6.9\u001b[39m\n",
      " \u001b[90m [bc367c6b]\u001b[39m\u001b[93m ↑ ImageMetadata v0.7.2 ⇒ v0.9.0\u001b[39m\n",
      " \u001b[90m [787d08f9]\u001b[39m\u001b[93m ↑ ImageMorphology v0.2.4 ⇒ v0.2.5\u001b[39m\n",
      " \u001b[90m [2996bd0c]\u001b[39m\u001b[92m + ImageQualityIndexes v0.1.3\u001b[39m\n",
      " \u001b[90m [4e3cecfd]\u001b[39m\u001b[93m ↑ ImageShow v0.2.0 ⇒ v0.2.3\u001b[39m\n",
      " \u001b[90m [02fcd773]\u001b[39m\u001b[93m ↑ ImageTransformations v0.8.0 ⇒ v0.8.3\u001b[39m\n",
      " \u001b[90m [916415d5]\u001b[39m\u001b[93m ↑ Images v0.18.0 ⇒ v0.22.0\u001b[39m\n",
      " \u001b[90m [9b13fd28]\u001b[39m\u001b[93m ↑ IndirectArrays v0.5.0 ⇒ v0.5.1\u001b[39m\n",
      " \u001b[90m [8197267c]\u001b[39m\u001b[93m ↑ IntervalSets v0.3.2 ⇒ v0.4.0\u001b[39m\n",
      " \u001b[90m [97c1335a]\u001b[39m\u001b[95m ↓ JSExpr v0.5.1 ⇒ v0.5.0\u001b[39m\n",
      " \u001b[90m [682c06a0]\u001b[39m\u001b[93m ↑ JSON v0.20.0 ⇒ v0.20.1\u001b[39m\n",
      " \u001b[90m [aa1ae85d]\u001b[39m\u001b[93m ↑ JuliaInterpreter v0.7.4 ⇒ v0.7.12\u001b[39m\n",
      " \u001b[90m [b1bec4e5]\u001b[39m\u001b[93m ↑ LIBSVM v0.3.1 ⇒ v0.4.0\u001b[39m\n",
      " \u001b[90m [929cbde3]\u001b[39m\u001b[93m ↑ LLVM v1.3.2 ⇒ v1.3.3\u001b[39m\n",
      " \u001b[90m [7c4cb9fa]\u001b[39m\u001b[93m ↑ LNR v0.2.0 ⇒ v0.2.1\u001b[39m\n",
      " \u001b[90m [b964fa9f]\u001b[39m\u001b[93m ↑ LaTeXStrings v1.0.3 ⇒ v1.1.0\u001b[39m\n",
      " \u001b[90m [2ec943e9]\u001b[39m\u001b[93m ↑ Libz v1.0.0 ⇒ v1.0.1\u001b[39m\n",
      " \u001b[90m [442fdcdd]\u001b[39m\u001b[93m ↑ Measures v0.3.0 ⇒ v0.3.1\u001b[39m\n",
      " \u001b[90m [78c3b35d]\u001b[39m\u001b[93m ↑ Mocking v0.7.0 ⇒ v0.7.1\u001b[39m\n",
      " \u001b[90m [ffc61752]\u001b[39m\u001b[93m ↑ Mustache v0.5.13 ⇒ v1.0.0\u001b[39m\n",
      " \u001b[90m [d41bc354]\u001b[39m\u001b[93m ↑ NLSolversBase v7.5.0 ⇒ v7.6.1\u001b[39m\n",
      " \u001b[90m [872c559c]\u001b[39m\u001b[93m ↑ NNlib v0.6.0 ⇒ v0.6.6\u001b[39m\n",
      " \u001b[90m [b8a86587]\u001b[39m\u001b[93m ↑ NearestNeighbors v0.4.3 ⇒ v0.4.4\u001b[39m\n",
      " \u001b[90m [510215fc]\u001b[39m\u001b[93m ↑ Observables v0.2.3 ⇒ v0.3.1\u001b[39m\n",
      " \u001b[90m [6fe1bfb0]\u001b[39m\u001b[93m ↑ OffsetArrays v0.11.1 ⇒ v0.11.4\u001b[39m\n",
      " \u001b[90m [429524aa]\u001b[39m\u001b[93m ↑ Optim v0.19.4 ⇒ v0.20.1\u001b[39m\n",
      " \u001b[90m [90014a1f]\u001b[39m\u001b[93m ↑ PDMats v0.9.10 ⇒ v0.9.11\u001b[39m\n",
      " \u001b[90m [5432bcbf]\u001b[39m\u001b[93m ↑ PaddedViews v0.4.2 ⇒ v0.5.1\u001b[39m\n",
      " \u001b[90m [69de0a69]\u001b[39m\u001b[93m ↑ Parsers v0.3.10 ⇒ v0.3.12\u001b[39m\n",
      " \u001b[90m [ccf2f8ad]\u001b[39m\u001b[93m ↑ PlotThemes v0.4.0 ⇒ v1.0.1\u001b[39m\n",
      " \u001b[90m [995b91a9]\u001b[39m\u001b[95m ↓ PlotUtils v0.6.1 ⇒ v0.6.0\u001b[39m\n",
      " \u001b[90m [2dfb63ee]\u001b[39m\u001b[93m ↑ PooledArrays v0.5.2 ⇒ v0.5.3\u001b[39m\n",
      " \u001b[90m [1fd47b50]\u001b[39m\u001b[93m ↑ QuadGK v2.1.1 ⇒ v2.3.1\u001b[39m\n",
      " \u001b[90m [b3c3ace0]\u001b[39m\u001b[93m ↑ RangeArrays v0.3.1 ⇒ v0.3.2\u001b[39m\n",
      " \u001b[90m [c84ed2f1]\u001b[39m\u001b[93m ↑ Ratios v0.3.1 ⇒ v0.4.0\u001b[39m\n",
      " \u001b[90m [3cdcf5f2]\u001b[39m\u001b[93m ↑ RecipesBase v0.7.0 ⇒ v0.8.0\u001b[39m\n",
      " \u001b[90m [79098fc4]\u001b[39m\u001b[93m ↑ Rmath v0.5.1 ⇒ v0.6.0\u001b[39m\n",
      " \u001b[90m [6038ab10]\u001b[39m\u001b[93m ↑ Rotations v0.12.0 ⇒ v0.13.0\u001b[39m\n",
      " \u001b[90m [4c63d2b9]\u001b[39m\u001b[93m ↑ StatsFuns v0.9.0 ⇒ v0.9.4\u001b[39m\n",
      " \u001b[90m [06e1c1a7]\u001b[39m\u001b[93m ↑ TiledIteration v0.2.3 ⇒ v0.2.4\u001b[39m\n",
      " \u001b[90m [f269a46b]\u001b[39m\u001b[93m ↑ TimeZones v0.10.3 ⇒ v1.0.1\u001b[39m\n",
      " \u001b[90m [0796e94c]\u001b[39m\u001b[93m ↑ Tokenize v0.5.6 ⇒ v0.5.7\u001b[39m\n",
      " \u001b[90m [9f7883ad]\u001b[39m\u001b[93m ↑ Tracker v0.2.5 ⇒ v0.2.6\u001b[39m\n",
      " \u001b[90m [81def892]\u001b[39m\u001b[93m ↑ VersionParsing v1.1.3 ⇒ v1.2.0\u001b[39m\n",
      " \u001b[90m [ea10d353]\u001b[39m\u001b[93m ↑ WeakRefStrings v0.6.1 ⇒ v0.6.2\u001b[39m\n",
      " \u001b[90m [efce3f68]\u001b[39m\u001b[93m ↑ WoodburyMatrices v0.4.1 ⇒ v0.5.1\u001b[39m\n",
      " \u001b[90m [c2297ded]\u001b[39m\u001b[93m ↑ ZMQ v1.0.0 ⇒ v1.1.0\u001b[39m\n",
      " \u001b[90m [a5390f91]\u001b[39m\u001b[93m ↑ ZipFile v0.8.3 ⇒ v0.8.4\u001b[39m\n",
      "\u001b[32m\u001b[1m  Building\u001b[22m\u001b[39m FFMPEG ───→ `C:\\Users\\mmmme\\.julia\\packages\\FFMPEG\\guN1x\\deps\\build.log`\n"
     ]
    }
   ],
   "source": [
    "using Pkg; Pkg.add(\"Exercism\")\n",
    "using Exercism\n",
    "Exercism.create_submission(\"nucleotide-count\")"
   ]
  },
  {
   "cell_type": "code",
   "execution_count": null,
   "metadata": {},
   "outputs": [],
   "source": []
  }
 ],
 "metadata": {
  "kernelspec": {
   "display_name": "Julia 1.2.0",
   "language": "julia",
   "name": "julia-1.2"
  },
  "language_info": {
   "file_extension": ".jl",
   "mimetype": "application/julia",
   "name": "julia",
   "version": "1.2.0"
  }
 },
 "nbformat": 4,
 "nbformat_minor": 2
}
